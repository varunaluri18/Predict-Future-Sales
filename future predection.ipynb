{
  "nbformat": 4,
  "nbformat_minor": 0,
  "metadata": {
    "colab": {
      "name": "Untitled8.ipynb",
      "provenance": [],
      "collapsed_sections": [],
      "toc_visible": true
    },
    "kernelspec": {
      "name": "python3",
      "display_name": "Python 3"
    },
    "accelerator": "GPU"
  },
  "cells": [
    {
      "cell_type": "code",
      "metadata": {
        "id": "EbkcbZ4vsD4-",
        "colab_type": "code",
        "colab": {}
      },
      "source": [
        "import pandas as pd\n",
        "import numpy as np\n",
        "import seaborn as sns"
      ],
      "execution_count": 0,
      "outputs": []
    },
    {
      "cell_type": "code",
      "metadata": {
        "id": "JZeh7-pN64Sn",
        "colab_type": "code",
        "colab": {}
      },
      "source": [
        "item_cat=pd.read_csv('/content/item_categories.csv')\n",
        "item=pd.read_csv('/content/items.csv')\n",
        "train=pd.read_csv('/content/sales_train.csv')\n",
        "shops=pd.read_csv('/content/shops.csv')\n",
        "test=pd.read_csv('/content/test.csv')\n",
        "sample_sub=pd.read_csv('/content/sample_submission.csv')"
      ],
      "execution_count": 0,
      "outputs": []
    },
    {
      "cell_type": "code",
      "metadata": {
        "id": "q8QVYphm8Fy4",
        "colab_type": "code",
        "outputId": "24f917f8-20bd-4d31-baf8-b958d243e203",
        "colab": {
          "base_uri": "https://localhost:8080/",
          "height": 123
        }
      },
      "source": [
        "print(len(item_cat))\n",
        "print(len(item))\n",
        "print(len(shops))\n",
        "print(len(train))\n",
        "print(len(test))\n",
        "print(len(sample_sub))"
      ],
      "execution_count": 6,
      "outputs": [
        {
          "output_type": "stream",
          "text": [
            "84\n",
            "22170\n",
            "60\n",
            "899331\n",
            "214200\n",
            "214200\n"
          ],
          "name": "stdout"
        }
      ]
    },
    {
      "cell_type": "code",
      "metadata": {
        "id": "mKSlpuj28HyO",
        "colab_type": "code",
        "outputId": "f71bf233-4037-4476-9389-01f173938425",
        "colab": {
          "base_uri": "https://localhost:8080/",
          "height": 354
        }
      },
      "source": [
        "print('item_category')\n",
        "print(item_cat.columns)\n",
        "print()\n",
        "print('Shops')\n",
        "print(shops.columns)\n",
        "print()\n",
        "print('Item')\n",
        "print(item.columns)\n",
        "print('______________________________________________________')\n",
        "\n",
        "print('Train')\n",
        "print(train.columns)\n",
        "print()\n",
        "print('Test')\n",
        "print(test.columns)\n",
        "print()\n",
        "print('Sample_sub')\n",
        "print(sample_sub.columns)"
      ],
      "execution_count": 7,
      "outputs": [
        {
          "output_type": "stream",
          "text": [
            "item_category\n",
            "Index(['item_category_name', 'item_category_id'], dtype='object')\n",
            "\n",
            "Shops\n",
            "Index(['shop_name', 'shop_id'], dtype='object')\n",
            "\n",
            "Item\n",
            "Index(['item_name', 'item_id', 'item_category_id'], dtype='object')\n",
            "______________________________________________________\n",
            "Train\n",
            "Index(['date', 'date_block_num', 'shop_id', 'item_id', 'item_price',\n",
            "       'item_cnt_day'],\n",
            "      dtype='object')\n",
            "\n",
            "Test\n",
            "Index(['ID', 'shop_id', 'item_id'], dtype='object')\n",
            "\n",
            "Sample_sub\n",
            "Index(['ID', 'item_cnt_month'], dtype='object')\n"
          ],
          "name": "stdout"
        }
      ]
    },
    {
      "cell_type": "code",
      "metadata": {
        "id": "uD01oIuf8KNl",
        "colab_type": "code",
        "colab": {}
      },
      "source": [
        "X=train[['shop_id', 'item_id']]\n",
        "X=X.dropna()\n",
        "y=train[['item_cnt_day']]\n",
        "z=test[['shop_id', 'item_id']]"
      ],
      "execution_count": 0,
      "outputs": []
    },
    {
      "cell_type": "code",
      "metadata": {
        "id": "PvW0Ppp8AWCP",
        "colab_type": "code",
        "colab": {}
      },
      "source": [
        "from sklearn.tree import DecisionTreeRegressor\n",
        "treemodel = DecisionTreeRegressor(criterion = 'mse', random_state = 0)\n",
        "treemodel.fit(X,y)\n",
        "y_pred=treemodel.predict(z)\n",
        "print(treemodel.score(X,y))"
      ],
      "execution_count": 0,
      "outputs": []
    },
    {
      "cell_type": "code",
      "metadata": {
        "id": "keHKHHNgb8Ni",
        "colab_type": "code",
        "colab": {}
      },
      "source": [
        "pred=pd.DataFrame(y_pred)\n",
        "sub_df=sample_sub\n",
        "datasets=pd.concat([sub_df['ID'],pred],axis=1)\n",
        "datasets.columns=['Id','item_cnt_month']\n",
        "datasets.to_csv('final1.csv',index=False)"
      ],
      "execution_count": 0,
      "outputs": []
    },
    {
      "cell_type": "code",
      "metadata": {
        "id": "0mnycPU4cAm_",
        "colab_type": "code",
        "colab": {}
      },
      "source": [
        ""
      ],
      "execution_count": 0,
      "outputs": []
    }
  ]
}